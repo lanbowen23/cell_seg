{
 "cells": [
  {
   "cell_type": "code",
   "execution_count": 1,
   "metadata": {
    "jupyter": {
     "source_hidden": true
    }
   },
   "outputs": [
    {
     "name": "stderr",
     "output_type": "stream",
     "text": [
      "Using TensorFlow backend.\n"
     ]
    }
   ],
   "source": [
    "%load_ext autoreload\n",
    "%autoreload 2\n",
    "%matplotlib inline\n",
    "\n",
    "import os\n",
    "import random\n",
    "import shutil\n",
    "\n",
    "import matplotlib.pyplot as plt\n",
    "import numpy as np\n",
    "import pandas as pd\n",
    "import seaborn as sb\n",
    "\n",
    "from tqdm import tqdm\n",
    "\n",
    "import skimage.io\n",
    "import skimage.segmentation\n",
    "import skimage.morphology\n",
    "\n",
    "# import sys\n",
    "# __file__ = 'full_experiment.ipynb'\n",
    "# sys.path.append(os.path.dirname(os.path.dirname(os.path.abspath(__file__))))\n",
    "\n",
    "import utils.dirtools  # utils package should has __init__.py in it\n",
    "import utils.augmentation\n",
    "import utils.model_builder\n",
    "import utils.data_provider\n",
    "import utils.metrics\n",
    "import utils.objectives\n",
    "import utils.evaluation\n",
    "from utils.bltools import remove_border, show\n",
    "\n",
    "import keras.backend\n",
    "import keras.callbacks\n",
    "import keras.layers\n",
    "import keras.models\n",
    "import keras.optimizers\n",
    "import tensorflow as tf\n",
    "\n",
    "from config import config_vars\n",
    "\n",
    "def warn(*args, **kwargs):\n",
    "    pass\n",
    "import warnings\n",
    "warnings.warn = warn\n",
    "\n",
    "def empty_dir(folder):\n",
    "    print('empty directory: ', folder)\n",
    "    for the_file in os.listdir(folder):\n",
    "        file_path = os.path.join(folder, the_file)\n",
    "        try:\n",
    "            if os.path.isfile(file_path):\n",
    "                os.unlink(file_path)\n",
    "            elif os.path.isdir(file_path): shutil.rmtree(file_path)\n",
    "        except Exception as e:\n",
    "            print(e)\n",
    "\n",
    "### KERAS GPU SETTING\n",
    "# os.environ[\"CUDA_VISIBLE_DEVICES\"] = \"2\"\n",
    "\n",
    "# # build session running on GPU 1\n",
    "# configuration = tf.ConfigProto()\n",
    "# configuration.gpu_options.allow_growth = True\n",
    "# # configuration.gpu_options.visible_device_list = \"0, 1\"\n",
    "# session = tf.Session(config = configuration)\n",
    "\n",
    "# # apply session\n",
    "# keras.backend.set_session(session)"
   ]
  },
  {
   "cell_type": "code",
   "execution_count": 2,
   "metadata": {},
   "outputs": [],
   "source": [
    "config_vars[\"root_directory\"] = 'DATA/FISH/'\n",
    "experiment_name = '26' ###\n",
    "\n",
    "config_vars = utils.dirtools.setup_working_directories(config_vars)\n",
    "config_vars = utils.dirtools.setup_experiment(config_vars, experiment_name)\n",
    "os.makedirs(config_vars[\"normalized_images_dir\"], exist_ok=True)\n",
    "os.makedirs(config_vars[\"boundary_labels_dir\"], exist_ok=True)\n",
    "\n",
    "config_vars[\"mat_label_dir\"] = 'DATA/FISH/raw_annotations/raw_masks/'"
   ]
  },
  {
   "cell_type": "code",
   "execution_count": 3,
   "metadata": {},
   "outputs": [],
   "source": [
    "valid_list = os.listdir(config_vars[\"mat_label_dir\"])\n",
    "valid_list = sorted([x for x in valid_list if x.endswith('png')])\n",
    "\n",
    "list_train = []\n",
    "list_test = []\n",
    "list_valid = valid_list\n",
    "\n",
    "# fd_list = sorted(os.listdir('DATA/LineageTracking/raw_images/'))\n",
    "# valid_fd_list = fd_list[60:]\n",
    "# for f in valid_fd_list:\n",
    "#     tmp_list = os.listdir('DATA/LineageTracking/boundary_labels/' + f)\n",
    "#     tmp_list = [x for x in tmp_list if x.endswith('png')]\n",
    "#     for e in sorted(tmp_list):\n",
    "#         list_valid.append(f + '/' + e)\n",
    "\n",
    "\n",
    "utils.dirtools.write_path_files(config_vars[\"path_files_training\"], list_train)\n",
    "utils.dirtools.write_path_files(config_vars[\"path_files_validation\"], list_valid)\n",
    "utils.dirtools.write_path_files(config_vars[\"path_files_test\"], list_test)\n",
    "\n",
    "# read txt file into dict partitions with 3 list for train/valid/test\n",
    "data_partitions = utils.dirtools.read_data_partitions(config_vars, load_augmented=False)"
   ]
  },
  {
   "cell_type": "code",
   "execution_count": 4,
   "metadata": {},
   "outputs": [
    {
     "name": "stdout",
     "output_type": "stream",
     "text": [
      "CPU times: user 2min 31s, sys: 2.45 s, total: 2min 34s\n",
      "Wall time: 3min 8s\n"
     ]
    }
   ],
   "source": [
    "%%time\n",
    "\"\"\"Metrics 计算 改变###的地方\n",
    "\n",
    "Jaccard: IOU match average\n",
    "\n",
    "True Pos: IOU match and only one match\n",
    "False Pos: extra pred label match non gt\n",
    "False Neg: missed gt label match non pred\n",
    "Precision: TP / (TP + FP + 1e-9)\n",
    "Recall: TP / (TP + FN)\n",
    "F1: 2 * TP / (2 * TP + FP + FN + 1e-9)\n",
    "\n",
    "False_neg area: missed gt label area\n",
    "\n",
    "Merge: one pred label match two gt label\n",
    "Split: one gt label match two pred label\n",
    "\n",
    "\"\"\"\n",
    "\n",
    "results = pd.DataFrame(columns=[\"Image\", \"Threshold\", \"F1\", \"Precision\", \"Recall\", \"Jaccard\", \\\n",
    "                                \"TP\", \"FP\", \"FN\"])\n",
    "false_negatives = pd.DataFrame(columns=[\"False_Negative\", \"Area\"])\n",
    "splits_merges = pd.DataFrame(columns=[\"Image_Name\", \"Merges\", \"Splits\"])\n",
    "\n",
    "compare_dir = config_vars[\"labels_out_dir\"]  ### labels_out_dir  mat_label_dir\n",
    "all_images = data_partitions[\"validation\"]\n",
    "\n",
    "for image_name in all_images:\n",
    "    img_filename = os.path.join(config_vars[\"raw_annotations_dir\"], image_name)\n",
    "    ground_truth = skimage.io.imread(img_filename)\n",
    "    pred_filename = os.path.join(compare_dir, image_name)\n",
    "    prediction = skimage.io.imread(pred_filename)\n",
    "\n",
    "    # no effect on matlab results, but needed for predicted results\n",
    "    ground_truth = remove_border(ground_truth)\n",
    "    prediction = remove_border(prediction)\n",
    "    \n",
    "    ground_truth = skimage.morphology.label(ground_truth)\n",
    "    prediction = skimage.morphology.label(prediction)\n",
    "    \n",
    "    ### Apply object dilation don't do for matlab results\n",
    "    if config_vars[\"object_dilation\"] > 0:\n",
    "        struct = skimage.morphology.square(config_vars[\"object_dilation\"])\n",
    "        prediction = skimage.morphology.dilation(prediction, struct)\n",
    "    elif config_vars[\"object_dilation\"] < 0:\n",
    "        struct = skimage.morphology.square(-config_vars[\"object_dilation\"])\n",
    "        prediction = skimage.morphology.erosion(prediction, struct)\n",
    "        \n",
    "    \n",
    "    results = utils.evaluation.compute_af1_results(\n",
    "        ground_truth, \n",
    "        prediction, \n",
    "        results, \n",
    "        image_name\n",
    "    )\n",
    "    \n",
    "    false_negatives = utils.evaluation.get_false_negatives(\n",
    "        ground_truth, \n",
    "        prediction, \n",
    "        false_negatives, \n",
    "        image_name\n",
    "    )\n",
    "    \n",
    "    splits_merges = utils.evaluation.get_splits_and_merges(\n",
    "        ground_truth, \n",
    "        prediction, \n",
    "        splits_merges, \n",
    "        image_name\n",
    "    )\n"
   ]
  },
  {
   "cell_type": "code",
   "execution_count": 5,
   "metadata": {},
   "outputs": [
    {
     "data": {
      "text/html": [
       "<div>\n",
       "<style scoped>\n",
       "    .dataframe tbody tr th:only-of-type {\n",
       "        vertical-align: middle;\n",
       "    }\n",
       "\n",
       "    .dataframe tbody tr th {\n",
       "        vertical-align: top;\n",
       "    }\n",
       "\n",
       "    .dataframe thead th {\n",
       "        text-align: right;\n",
       "    }\n",
       "</style>\n",
       "<table border=\"1\" class=\"dataframe\">\n",
       "  <thead>\n",
       "    <tr style=\"text-align: right;\">\n",
       "      <th></th>\n",
       "      <th>Threshold</th>\n",
       "      <th>F1</th>\n",
       "      <th>Precision</th>\n",
       "      <th>Recall</th>\n",
       "      <th>Jaccard</th>\n",
       "    </tr>\n",
       "  </thead>\n",
       "  <tbody>\n",
       "    <tr>\n",
       "      <th>0</th>\n",
       "      <td>0.50</td>\n",
       "      <td>0.956924</td>\n",
       "      <td>0.940591</td>\n",
       "      <td>0.974695</td>\n",
       "      <td>0.901155</td>\n",
       "    </tr>\n",
       "    <tr>\n",
       "      <th>1</th>\n",
       "      <td>0.55</td>\n",
       "      <td>0.943115</td>\n",
       "      <td>0.927174</td>\n",
       "      <td>0.960452</td>\n",
       "      <td>0.901155</td>\n",
       "    </tr>\n",
       "    <tr>\n",
       "      <th>2</th>\n",
       "      <td>0.60</td>\n",
       "      <td>0.939720</td>\n",
       "      <td>0.923906</td>\n",
       "      <td>0.956916</td>\n",
       "      <td>0.901155</td>\n",
       "    </tr>\n",
       "    <tr>\n",
       "      <th>3</th>\n",
       "      <td>0.65</td>\n",
       "      <td>0.938645</td>\n",
       "      <td>0.922884</td>\n",
       "      <td>0.955779</td>\n",
       "      <td>0.901155</td>\n",
       "    </tr>\n",
       "    <tr>\n",
       "      <th>4</th>\n",
       "      <td>0.70</td>\n",
       "      <td>0.938645</td>\n",
       "      <td>0.922884</td>\n",
       "      <td>0.955779</td>\n",
       "      <td>0.901155</td>\n",
       "    </tr>\n",
       "    <tr>\n",
       "      <th>5</th>\n",
       "      <td>0.75</td>\n",
       "      <td>0.938367</td>\n",
       "      <td>0.922613</td>\n",
       "      <td>0.955494</td>\n",
       "      <td>0.901155</td>\n",
       "    </tr>\n",
       "    <tr>\n",
       "      <th>6</th>\n",
       "      <td>0.80</td>\n",
       "      <td>0.935688</td>\n",
       "      <td>0.919997</td>\n",
       "      <td>0.952749</td>\n",
       "      <td>0.901155</td>\n",
       "    </tr>\n",
       "    <tr>\n",
       "      <th>7</th>\n",
       "      <td>0.85</td>\n",
       "      <td>0.892034</td>\n",
       "      <td>0.877407</td>\n",
       "      <td>0.907924</td>\n",
       "      <td>0.901155</td>\n",
       "    </tr>\n",
       "    <tr>\n",
       "      <th>8</th>\n",
       "      <td>0.90</td>\n",
       "      <td>0.856761</td>\n",
       "      <td>0.842922</td>\n",
       "      <td>0.871791</td>\n",
       "      <td>0.901155</td>\n",
       "    </tr>\n",
       "    <tr>\n",
       "      <th>9</th>\n",
       "      <td>0.95</td>\n",
       "      <td>0.506644</td>\n",
       "      <td>0.498265</td>\n",
       "      <td>0.515759</td>\n",
       "      <td>0.901155</td>\n",
       "    </tr>\n",
       "  </tbody>\n",
       "</table>\n",
       "</div>"
      ],
      "text/plain": [
       "   Threshold        F1  Precision    Recall   Jaccard\n",
       "0       0.50  0.956924   0.940591  0.974695  0.901155\n",
       "1       0.55  0.943115   0.927174  0.960452  0.901155\n",
       "2       0.60  0.939720   0.923906  0.956916  0.901155\n",
       "3       0.65  0.938645   0.922884  0.955779  0.901155\n",
       "4       0.70  0.938645   0.922884  0.955779  0.901155\n",
       "5       0.75  0.938367   0.922613  0.955494  0.901155\n",
       "6       0.80  0.935688   0.919997  0.952749  0.901155\n",
       "7       0.85  0.892034   0.877407  0.907924  0.901155\n",
       "8       0.90  0.856761   0.842922  0.871791  0.901155\n",
       "9       0.95  0.506644   0.498265  0.515759  0.901155"
      ]
     },
     "execution_count": 5,
     "metadata": {},
     "output_type": "execute_result"
    }
   ],
   "source": [
    "# average over 10 different threshold\n",
    "\n",
    "average_performance = results.groupby([\"Threshold\"]).mean().reset_index()\n",
    "average_performance"
   ]
  },
  {
   "cell_type": "code",
   "execution_count": 6,
   "metadata": {},
   "outputs": [],
   "source": [
    "R = results.groupby([\"Image\"]).mean().reset_index()\n",
    "# R.sort_values(by=\"F1\", ascending=False).reset_index()\n",
    "# R"
   ]
  },
  {
   "cell_type": "code",
   "execution_count": 7,
   "metadata": {},
   "outputs": [
    {
     "data": {
      "image/png": "[encoded data removed]",
      "text/plain": [
       "<Figure size 432x432 with 3 Axes>"
      ]
     },
     "metadata": {
      "needs_background": "light"
     },
     "output_type": "display_data"
    }
   ],
   "source": [
    "g = sb.jointplot(data=R[R[\"F1\"] > 0.4], x=\"Jaccard\", y=\"F1\")"
   ]
  },
  {
   "cell_type": "code",
   "execution_count": 8,
   "metadata": {},
   "outputs": [
    {
     "data": {
      "text/plain": [
       "<matplotlib.axes._subplots.AxesSubplot at 0x7fb7d15d32e8>"
      ]
     },
     "execution_count": 8,
     "metadata": {},
     "output_type": "execute_result"
    },
    {
     "data": {
      "image/png": "[encoded data removed]",
      "text/plain": [
       "<Figure size 432x288 with 1 Axes>"
      ]
     },
     "metadata": {
      "needs_background": "light"
     },
     "output_type": "display_data"
    }
   ],
   "source": [
    "# Plot accuracy results\n",
    "\n",
    "sb.regplot(data=average_performance, x=\"Threshold\", y=\"F1\", order=3, ci=None)"
   ]
  },
  {
   "cell_type": "code",
   "execution_count": 9,
   "metadata": {},
   "outputs": [
    {
     "name": "stdout",
     "output_type": "stream",
     "text": [
      "Average F1 score: 0.8846541679887995\n",
      "Average Precision: 0.8698641911054444\n",
      "Average Recall: 0.9007338796187156\n"
     ]
    }
   ],
   "source": [
    "# Compute and print Average F1\n",
    "average_F1_score = average_performance[\"F1\"].mean()\n",
    "jaccard_index = average_performance[\"Jaccard\"].mean()\n",
    "precision = average_performance[\"Precision\"].mean()\n",
    "recall = average_performance[\"Recall\"].mean()\n",
    "print(\"Average F1 score:\", average_F1_score)\n",
    "# print(\"Jaccard index:\", jaccard_index)\n",
    "print(\"Average Precision:\", precision)\n",
    "print(\"Average Recall:\", recall)"
   ]
  },
  {
   "cell_type": "code",
   "execution_count": 10,
   "metadata": {},
   "outputs": [
    {
     "name": "stdout",
     "output_type": "stream",
     "text": [
      "Average F1 score: 0.9353921107835621\n",
      "Jaccard index: 0.901155484297437\n",
      "Average Precision: 0.9196819295783167\n",
      "Average Recall: 0.9524736821965181\n",
      "Splits: 90\n",
      "Merges: 4\n",
      "Extra objects (false postives):  237\n"
     ]
    }
   ],
   "source": [
    "average_F1_score = average_performance[\"F1\"][results[\"Threshold\"] <= 0.9].mean()\n",
    "jaccard_index = average_performance[\"Jaccard\"][results[\"Threshold\"] <= 0.9].mean()\n",
    "precision = average_performance[\"Precision\"][results[\"Threshold\"] <= 0.9].mean()\n",
    "recall = average_performance[\"Recall\"][results[\"Threshold\"] <= 0.9].mean()\n",
    "\n",
    "print(\"Average F1 score:\", average_F1_score)\n",
    "print(\"Jaccard index:\", jaccard_index)\n",
    "print(\"Average Precision:\", precision)\n",
    "print(\"Average Recall:\", recall)\n",
    "\n",
    "\n",
    "# Summarize splits and merges\n",
    "\n",
    "print(\"Splits:\", np.sum(splits_merges[\"Splits\"]))\n",
    "print(\"Merges:\", np.sum(splits_merges[\"Merges\"]))\n",
    "\n",
    "# Report false positives\n",
    "\n",
    "print(\"Extra objects (false postives): \", \n",
    "      results[results[\"Threshold\"].round(2) == 0.7].sum()[\"FP\"])"
   ]
  },
  {
   "cell_type": "code",
   "execution_count": 11,
   "metadata": {},
   "outputs": [
    {
     "data": {
      "text/plain": [
       "Area\n",
       "Tiny nuclei       NaN\n",
       "Small nuclei     26.0\n",
       "Normal nuclei    31.0\n",
       "Large nuclei     73.0\n",
       "Name: False_Negative, dtype: float64"
      ]
     },
     "execution_count": 11,
     "metadata": {},
     "output_type": "execute_result"
    }
   ],
   "source": [
    "# Summarize False Negatives by area\n",
    "\n",
    "false_negatives = false_negatives[false_negatives[\"False_Negative\"] == 1]\n",
    "\n",
    "false_negatives.groupby(\n",
    "    pd.cut(\n",
    "        false_negatives[\"Area\"], \n",
    "        [0, 250, 625, 900, 10000], # Area intervals\n",
    "        labels = [\"Tiny nuclei\",\"Small nuclei\",\"Normal nuclei\",\"Large nuclei\"],\n",
    "    )\n",
    ")[\"False_Negative\"].sum()"
   ]
  },
  {
   "cell_type": "code",
   "execution_count": null,
   "metadata": {},
   "outputs": [],
   "source": []
  }
 ],
 "metadata": {
  "kernelspec": {
   "display_name": "Python 3",
   "language": "python",
   "name": "python3"
  },
  "language_info": {
   "codemirror_mode": {
    "name": "ipython",
    "version": 3
   },
   "file_extension": ".py",
   "mimetype": "text/x-python",
   "name": "python",
   "nbconvert_exporter": "python",
   "pygments_lexer": "ipython3",
   "version": "3.6.9"
  }
 },
 "nbformat": 4,
 "nbformat_minor": 4
}
