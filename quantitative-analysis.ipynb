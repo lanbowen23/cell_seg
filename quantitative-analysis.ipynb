{
 "cells": [
  {
   "cell_type": "code",
   "execution_count": 1,
   "metadata": {},
   "outputs": [],
   "source": [
    "%load_ext autoreload\n",
    "%autoreload 2\n",
    "%matplotlib inline\n",
    "\n",
    "import skimage.io\n",
    "import skimage.morphology\n",
    "import skimage.segmentation\n",
    "import numpy as np\n",
    "import matplotlib.pyplot as plt\n",
    "import pandas as pd\n",
    "import os\n",
    "\n",
    "import utils.evaluation"
   ]
  },
  {
   "cell_type": "code",
   "execution_count": 4,
   "metadata": {},
   "outputs": [],
   "source": [
    "\"\"\"get cell numbers; background, cell, boundary ratio for all images\n",
    "only check on train split\n",
    "\"\"\"\n",
    "\n",
    "results = pd.DataFrame(columns=[\"Image\", \"nb_cell\", \"ratio1\", \"ratio2\"])\n",
    "\n",
    "filelist = sorted(os.listdir('DATA/FISH/raw_annotations/'))\n",
    "filelist = [x for x in filelist if x.endswith('png')]\n",
    "all_images = filelist[:48]\n",
    "\n",
    "for image_name in all_images:\n",
    "    img_filename = os.path.join('DATA/FISH/raw_annotations/', image_name)\n",
    "    ground_truth = skimage.io.imread(img_filename)\n",
    "    pred_filename = os.path.join('DATA/FISH/boundary_labels/', image_name)\n",
    "    prediction = skimage.io.imread(pred_filename)\n",
    "\n",
    "    results = utils.evaluation.num_analysis(\n",
    "        ground_truth, \n",
    "        prediction, \n",
    "        results, \n",
    "        image_name\n",
    "    )"
   ]
  },
  {
   "cell_type": "code",
   "execution_count": 5,
   "metadata": {},
   "outputs": [
    {
     "data": {
      "text/plain": [
       "3145"
      ]
     },
     "execution_count": 5,
     "metadata": {},
     "output_type": "execute_result"
    }
   ],
   "source": [
    "results['nb_cell'].sum()"
   ]
  },
  {
   "cell_type": "code",
   "execution_count": 4,
   "metadata": {},
   "outputs": [
    {
     "name": "stdout",
     "output_type": "stream",
     "text": [
      "41641 8168\n"
     ]
    }
   ],
   "source": [
    "annot = skimage.io.imread('DATA/FISH/raw_annotations/' + '0000.png')\n",
    "annot = skimage.morphology.label(annot)\n",
    "\n",
    "# bd = skimage.segmentation.find_boundaries(annot, mode='outer')\n",
    "\n",
    "# make the boundary wider\n",
    "# for k in range(2, 4, 2):\n",
    "#     bd2 = skimage.morphology.binary_dilation(bd2)\n",
    "\n",
    "annot2 = annot.copy()\n",
    "annot2[annot>0] = 1\n",
    "bd = skimage.segmentation.find_boundaries(annot2, mode='outer')\n",
    "\n",
    "print(np.sum(annot2), np.sum(bd))"
   ]
  },
  {
   "cell_type": "code",
   "execution_count": 5,
   "metadata": {},
   "outputs": [
    {
     "data": {
      "text/plain": [
       "<matplotlib.image.AxesImage at 0x7f4fc4790d30>"
      ]
     },
     "execution_count": 5,
     "metadata": {},
     "output_type": "execute_result"
    },
    {
     "data": {
      "image/png": "[encoded data removed]",
      "text/plain": [
       "<Figure size 1296x432 with 3 Axes>"
      ]
     },
     "metadata": {
      "needs_background": "light"
     },
     "output_type": "display_data"
    }
   ],
   "source": [
    "fig, ax = plt.subplots(1,3, figsize=(18,6))\n",
    "ax[0].imshow(annot2)\n",
    "ax[1].imshow(bd)\n",
    "# ax[2].imshow(bd2)"
   ]
  },
  {
   "cell_type": "code",
   "execution_count": null,
   "metadata": {},
   "outputs": [],
   "source": [
    "\"\"\"check if boundary overlaps with cell interior\n",
    "it does overlap even find_boundaries mode is outer\n",
    "\"\"\"\n",
    "\n",
    "comb = annot2 + bd\n",
    "comb *= 100\n",
    "\n",
    "np.unique(comb)\n",
    "\n",
    "fig, ax = plt.subplots(1,1, figsize=(10,10))\n",
    "ax.imshow(comb, cmap='gray')"
   ]
  },
  {
   "cell_type": "code",
   "execution_count": null,
   "metadata": {},
   "outputs": [],
   "source": [
    "\"\"\"check downsampling/resize effect on cell images\n",
    "512-256-128-64-32\n",
    "\"\"\"\n",
    "img = skimage.io.imread('DATA/FISH/norm_images/' + '0000.png')\n",
    "annot = skimage.io.imread('DATA/FISH/raw_annotations/' + '0000.png')\n",
    "\n",
    "from skimage.transform import resize\n",
    "\n",
    "print(\"original size: {}\".format(img.shape))\n",
    "r_shape = 64 \n",
    "img_2 = resize(img, (r_shape, r_shape))\n",
    "annot_2 = resize(annot, (r_shape, r_shape))\n",
    "\n",
    "fig, ax = plt.subplots(2,2, figsize=(20,20))\n",
    "for a1 in ax:\n",
    "    for a in a1:\n",
    "        a.set_xticks([])\n",
    "        a.set_yticks([])\n",
    "ax[0][0].imshow(img, cmap='gray')\n",
    "ax[0][1].imshow(annot, cmap='gray')\n",
    "ax[1][0].imshow(img_2, cmap='gray')\n",
    "ax[1][1].imshow(annot_2, cmap='gray')\n"
   ]
  },
  {
   "cell_type": "code",
   "execution_count": 27,
   "metadata": {},
   "outputs": [],
   "source": [
    "\"\"\"quantitively check cell size distribution\n",
    "\"\"\"\n",
    "\n",
    "filelist = sorted(os.listdir('DATA/FISH/raw_annotations/'))\n",
    "filelist = [x for x in filelist if x.endswith('png')]\n",
    "all_images = filelist[48:]\n",
    "\n",
    "all_area = np.array([])\n",
    "for i in all_images:\n",
    "    filename = os.path.join('DATA/FISH/raw_annotations/', image_name)\n",
    "    ground_truth = skimage.io.imread(filename)\n",
    "    \n",
    "    true_objects = len(np.unique(ground_truth))\n",
    "    area_true = np.histogram(ground_truth, bins=true_objects)[0][1:]\n",
    "    all_area = np.concatenate((all_area, area_true), axis=0)"
   ]
  },
  {
   "cell_type": "code",
   "execution_count": 28,
   "metadata": {},
   "outputs": [
    {
     "data": {
      "text/plain": [
       "(array([1164., 1455., 1455.,  582., 1746.,  873.,    0.,    0.,  291.,\n",
       "         291.]),\n",
       " array([ 617. ,  706.3,  795.6,  884.9,  974.2, 1063.5, 1152.8, 1242.1,\n",
       "        1331.4, 1420.7, 1510. ]),\n",
       " <a list of 10 Patch objects>)"
      ]
     },
     "execution_count": 28,
     "metadata": {},
     "output_type": "execute_result"
    },
    {
     "data": {
      "image/png": "[encoded data removed]",
      "text/plain": [
       "<Figure size 432x288 with 1 Axes>"
      ]
     },
     "metadata": {
      "needs_background": "light"
     },
     "output_type": "display_data"
    }
   ],
   "source": [
    "plt.hist(all_area)"
   ]
  }
 ],
 "metadata": {
  "kernelspec": {
   "display_name": "Python 3",
   "language": "python",
   "name": "python3"
  },
  "language_info": {
   "codemirror_mode": {
    "name": "ipython",
    "version": 3
   },
   "file_extension": ".py",
   "mimetype": "text/x-python",
   "name": "python",
   "nbconvert_exporter": "python",
   "pygments_lexer": "ipython3",
   "version": "3.6.9"
  }
 },
 "nbformat": 4,
 "nbformat_minor": 4
}
